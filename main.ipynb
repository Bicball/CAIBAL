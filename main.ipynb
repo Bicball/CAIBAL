{
 "cells": [
  {
   "cell_type": "code",
   "execution_count": 483,
   "outputs": [],
   "source": [
    "import pandas as pd\n",
    "import matplotlib.pyplot as plt\n",
    "from sklearn.cluster import KMeans\n",
    "from caimcaim import CAIMD\n",
    "from scipy.stats import pearsonr"
   ],
   "metadata": {
    "collapsed": false,
    "pycharm": {
     "name": "#%%\n"
    }
   }
  },
  {
   "cell_type": "markdown",
   "source": [
    "## CAIBAL with Iris Dataset"
   ],
   "metadata": {
    "collapsed": false,
    "pycharm": {
     "name": "#%% md\n"
    }
   }
  },
  {
   "cell_type": "code",
   "execution_count": 484,
   "outputs": [
    {
     "data": {
      "text/plain": "   SepalLengthCm  SepalWidthCm  PetalLengthCm  PetalWidthCm\n0            5.1           3.5            1.4           0.2\n1            4.9           3.0            1.4           0.2\n2            4.7           3.2            1.3           0.2\n3            4.6           3.1            1.5           0.2\n4            5.0           3.6            1.4           0.2",
      "text/html": "<div>\n<style scoped>\n    .dataframe tbody tr th:only-of-type {\n        vertical-align: middle;\n    }\n\n    .dataframe tbody tr th {\n        vertical-align: top;\n    }\n\n    .dataframe thead th {\n        text-align: right;\n    }\n</style>\n<table border=\"1\" class=\"dataframe\">\n  <thead>\n    <tr style=\"text-align: right;\">\n      <th></th>\n      <th>SepalLengthCm</th>\n      <th>SepalWidthCm</th>\n      <th>PetalLengthCm</th>\n      <th>PetalWidthCm</th>\n    </tr>\n  </thead>\n  <tbody>\n    <tr>\n      <th>0</th>\n      <td>5.1</td>\n      <td>3.5</td>\n      <td>1.4</td>\n      <td>0.2</td>\n    </tr>\n    <tr>\n      <th>1</th>\n      <td>4.9</td>\n      <td>3.0</td>\n      <td>1.4</td>\n      <td>0.2</td>\n    </tr>\n    <tr>\n      <th>2</th>\n      <td>4.7</td>\n      <td>3.2</td>\n      <td>1.3</td>\n      <td>0.2</td>\n    </tr>\n    <tr>\n      <th>3</th>\n      <td>4.6</td>\n      <td>3.1</td>\n      <td>1.5</td>\n      <td>0.2</td>\n    </tr>\n    <tr>\n      <th>4</th>\n      <td>5.0</td>\n      <td>3.6</td>\n      <td>1.4</td>\n      <td>0.2</td>\n    </tr>\n  </tbody>\n</table>\n</div>"
     },
     "execution_count": 484,
     "metadata": {},
     "output_type": "execute_result"
    }
   ],
   "source": [
    "#dataset\n",
    "dataset = pd.read_csv('datasets/irisDataset.csv')\n",
    "Validation = pd.DataFrame(dataset['Species'])\n",
    "dataset_to_cluster = dataset.drop(['Id','Species'], axis=1)\n",
    "dataset_to_cluster.head()"
   ],
   "metadata": {
    "collapsed": false,
    "pycharm": {
     "name": "#%%\n"
    }
   }
  },
  {
   "cell_type": "markdown",
   "source": [
    "## Clustering with K-means"
   ],
   "metadata": {
    "collapsed": false,
    "pycharm": {
     "name": "#%% md\n"
    }
   }
  },
  {
   "cell_type": "code",
   "execution_count": 485,
   "outputs": [
    {
     "name": "stdout",
     "output_type": "stream",
     "text": [
      "0    62\n",
      "2    50\n",
      "1    38\n",
      "Name: cluster, dtype: int64\n"
     ]
    }
   ],
   "source": [
    "k = 3\n",
    "kmeans = KMeans(init='random', n_init= 20, n_clusters=k)\n",
    "dataset_w_clusterAtt = dataset_to_cluster.copy()\n",
    "dataset_w_clusterAtt['cluster'] = kmeans.fit_predict(dataset_to_cluster)\n",
    "print(pd.value_counts(dataset_w_clusterAtt[\"cluster\"]))"
   ],
   "metadata": {
    "collapsed": false,
    "pycharm": {
     "name": "#%%\n"
    }
   }
  },
  {
   "cell_type": "code",
   "execution_count": 486,
   "outputs": [
    {
     "data": {
      "text/plain": "<matplotlib.collections.PathCollection at 0x1ba65c231f0>"
     },
     "execution_count": 486,
     "metadata": {},
     "output_type": "execute_result"
    },
    {
     "data": {
      "text/plain": "<Figure size 432x288 with 1 Axes>",
      "image/png": "[encoded data removed]"
     },
     "metadata": {
      "needs_background": "light"
     },
     "output_type": "display_data"
    }
   ],
   "source": [
    "#ploting clusters\n",
    "plt.scatter(dataset_w_clusterAtt['PetalLengthCm'],dataset_w_clusterAtt['PetalWidthCm'], c=dataset_w_clusterAtt['cluster'], cmap='rainbow')"
   ],
   "metadata": {
    "collapsed": false,
    "pycharm": {
     "name": "#%%\n"
    }
   }
  },
  {
   "cell_type": "markdown",
   "source": [
    "## Discretizing with CAIM"
   ],
   "metadata": {
    "collapsed": false,
    "pycharm": {
     "name": "#%% md\n"
    }
   }
  },
  {
   "cell_type": "code",
   "execution_count": 487,
   "outputs": [
    {
     "name": "stdout",
     "output_type": "stream",
     "text": [
      "Categorical []\n",
      "# 0  GLOBAL CAIM  32.46822742474916\n",
      "# 1  GLOBAL CAIM  28.82017543859649\n",
      "# 2  GLOBAL CAIM  46.1764705882353\n",
      "# 3  GLOBAL CAIM  44.22\n"
     ]
    },
    {
     "data": {
      "text/plain": "     SepalLengthCm  SepalWidthCm  PetalLengthCm  PetalWidthCm\n0              0.0           1.0            0.0           0.0\n1              0.0           0.0            0.0           0.0\n2              0.0           0.0            0.0           0.0\n3              0.0           0.0            0.0           0.0\n4              0.0           1.0            0.0           0.0\n..             ...           ...            ...           ...\n145            1.0           0.0            2.0           1.0\n146            1.0           0.0            1.0           1.0\n147            1.0           0.0            2.0           1.0\n148            1.0           1.0            2.0           1.0\n149            1.0           0.0            1.0           1.0\n\n[150 rows x 4 columns]",
      "text/html": "<div>\n<style scoped>\n    .dataframe tbody tr th:only-of-type {\n        vertical-align: middle;\n    }\n\n    .dataframe tbody tr th {\n        vertical-align: top;\n    }\n\n    .dataframe thead th {\n        text-align: right;\n    }\n</style>\n<table border=\"1\" class=\"dataframe\">\n  <thead>\n    <tr style=\"text-align: right;\">\n      <th></th>\n      <th>SepalLengthCm</th>\n      <th>SepalWidthCm</th>\n      <th>PetalLengthCm</th>\n      <th>PetalWidthCm</th>\n    </tr>\n  </thead>\n  <tbody>\n    <tr>\n      <th>0</th>\n      <td>0.0</td>\n      <td>1.0</td>\n      <td>0.0</td>\n      <td>0.0</td>\n    </tr>\n    <tr>\n      <th>1</th>\n      <td>0.0</td>\n      <td>0.0</td>\n      <td>0.0</td>\n      <td>0.0</td>\n    </tr>\n    <tr>\n      <th>2</th>\n      <td>0.0</td>\n      <td>0.0</td>\n      <td>0.0</td>\n      <td>0.0</td>\n    </tr>\n    <tr>\n      <th>3</th>\n      <td>0.0</td>\n      <td>0.0</td>\n      <td>0.0</td>\n      <td>0.0</td>\n    </tr>\n    <tr>\n      <th>4</th>\n      <td>0.0</td>\n      <td>1.0</td>\n      <td>0.0</td>\n      <td>0.0</td>\n    </tr>\n    <tr>\n      <th>...</th>\n      <td>...</td>\n      <td>...</td>\n      <td>...</td>\n      <td>...</td>\n    </tr>\n    <tr>\n      <th>145</th>\n      <td>1.0</td>\n      <td>0.0</td>\n      <td>2.0</td>\n      <td>1.0</td>\n    </tr>\n    <tr>\n      <th>146</th>\n      <td>1.0</td>\n      <td>0.0</td>\n      <td>1.0</td>\n      <td>1.0</td>\n    </tr>\n    <tr>\n      <th>147</th>\n      <td>1.0</td>\n      <td>0.0</td>\n      <td>2.0</td>\n      <td>1.0</td>\n    </tr>\n    <tr>\n      <th>148</th>\n      <td>1.0</td>\n      <td>1.0</td>\n      <td>2.0</td>\n      <td>1.0</td>\n    </tr>\n    <tr>\n      <th>149</th>\n      <td>1.0</td>\n      <td>0.0</td>\n      <td>1.0</td>\n      <td>1.0</td>\n    </tr>\n  </tbody>\n</table>\n<p>150 rows × 4 columns</p>\n</div>"
     },
     "execution_count": 487,
     "metadata": {},
     "output_type": "execute_result"
    }
   ],
   "source": [
    "numAtt = dataset_to_cluster.copy()\n",
    "clusterAtt = dataset_w_clusterAtt['cluster']\n",
    "caim = CAIMD()\n",
    "dataset_disc = caim.fit_transform(numAtt, clusterAtt)\n",
    "dataset_disc"
   ],
   "metadata": {
    "collapsed": false,
    "pycharm": {
     "name": "#%%\n"
    }
   }
  },
  {
   "cell_type": "code",
   "execution_count": 488,
   "outputs": [
    {
     "data": {
      "text/plain": "{0: [4.3, 5.3, 7.9],\n 1: [2.0, 3.3, 4.4],\n 2: [1.0, 1.9, 5.2, 6.9],\n 3: [0.1, 0.6, 2.5]}"
     },
     "execution_count": 488,
     "metadata": {},
     "output_type": "execute_result"
    }
   ],
   "source": [
    "#Finding cut points\n",
    "disc_scheme = pd.DataFrame()\n",
    "disc_scheme = caim.split_scheme\n",
    "disc_scheme"
   ],
   "metadata": {
    "collapsed": false,
    "pycharm": {
     "name": "#%%\n"
    }
   }
  },
  {
   "cell_type": "markdown",
   "source": [
    "## Showing information of each cluster"
   ],
   "metadata": {
    "collapsed": false,
    "pycharm": {
     "name": "#%% md\n"
    }
   }
  },
  {
   "cell_type": "code",
   "execution_count": 489,
   "outputs": [],
   "source": [
    "#Getting all entries from discretized dataset that belongs to same cluster\n",
    "#change cluster number (line 4)\n",
    "cluster = pd.DataFrame()\n",
    "cluster = dataset_disc[dataset_w_clusterAtt['cluster'] == 2]"
   ],
   "metadata": {
    "collapsed": false,
    "pycharm": {
     "name": "#%%\n"
    }
   }
  },
  {
   "cell_type": "code",
   "execution_count": 490,
   "outputs": [],
   "source": [
    "#Getting results by feature and it's values\n",
    "all_results = []\n",
    "result_table = pd.DataFrame();\n",
    "for (colName, colData) in cluster.items():\n",
    "    counter_table = pd.crosstab(index=cluster[colName], columns='count', rownames=['ranges'])\n",
    "    counter_table = counter_table/counter_table.sum()\n",
    "    all_results.append(counter_table)\n",
    "result_table = pd.concat(all_results, names=['Feature','range'], keys=cluster.columns)"
   ],
   "metadata": {
    "collapsed": false,
    "pycharm": {
     "name": "#%%\n"
    }
   }
  },
  {
   "cell_type": "code",
   "execution_count": 491,
   "outputs": [
    {
     "name": "stdout",
     "output_type": "stream",
     "text": [
      "Cluster:\n",
      "SepalLengthCm: [4.3 - 5.3] -  [78.]\n",
      "SepalLengthCm: [5.3 - 7.9] -  [22.]\n",
      "SepalWidthCm: [2.0 - 3.3] -  [36.]\n",
      "SepalWidthCm: [3.3 - 4.4] -  [64.]\n",
      "PetalLengthCm: [1.0 - 1.9] -  [96.]\n",
      "PetalLengthCm: [1.9 - 5.2] -  [4.]\n",
      "PetalWidthCm: [0.1 - 0.6] -  [98.]\n",
      "PetalWidthCm: [0.6 - 2.5] -  [2.]\n"
     ]
    }
   ],
   "source": [
    "#Showing a result table with all information about cluster description\n",
    "feature_name = result_table.index[0][0]\n",
    "feature_index = 0\n",
    "print('Cluster:')\n",
    "for i_rt in range(result_table.index.size):\n",
    "    if feature_name != result_table.index[i_rt][0]:\n",
    "        feature_name = result_table.index[i_rt][0]\n",
    "        feature_index+=1\n",
    "    print(result_table.index[i_rt][0] + ': [' + str(disc_scheme[feature_index][int(result_table.index[i_rt][1])]),'-',str(disc_scheme[feature_index][int(result_table.index[i_rt][1])+1]) + '] - ',result_table.values[i_rt]*100)"
   ],
   "metadata": {
    "collapsed": false,
    "pycharm": {
     "name": "#%%\n"
    }
   }
  }
 ],
 "metadata": {
  "kernelspec": {
   "display_name": "Python 3",
   "language": "python",
   "name": "python3"
  },
  "language_info": {
   "codemirror_mode": {
    "name": "ipython",
    "version": 2
   },
   "file_extension": ".py",
   "mimetype": "text/x-python",
   "name": "python",
   "nbconvert_exporter": "python",
   "pygments_lexer": "ipython2",
   "version": "2.7.6"
  }
 },
 "nbformat": 4,
 "nbformat_minor": 0
}