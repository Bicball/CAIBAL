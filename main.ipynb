{
 "cells": [
  {
   "cell_type": "code",
   "execution_count": 64,
   "outputs": [],
   "source": [
    "import pandas as pd\n",
    "import matplotlib.pyplot as plt\n",
    "from sklearn.cluster import KMeans\n",
    "from caimcaim import CAIMD\n",
    "from scipy.stats import pearsonr"
   ],
   "metadata": {
    "collapsed": false,
    "pycharm": {
     "name": "#%%\n"
    }
   }
  },
  {
   "cell_type": "markdown",
   "source": [
    "## CAIBAL with Iris Dataset"
   ],
   "metadata": {
    "collapsed": false,
    "pycharm": {
     "name": "#%% md\n"
    }
   }
  },
  {
   "cell_type": "code",
   "execution_count": 65,
   "outputs": [
    {
     "data": {
      "text/plain": "     SepalLengthCm  SepalWidthCm  PetalLengthCm  PetalWidthCm\n0              5.1           3.5            1.4           0.2\n1              4.9           3.0            1.4           0.2\n2              4.7           3.2            1.3           0.2\n3              4.6           3.1            1.5           0.2\n4              5.0           3.6            1.4           0.2\n..             ...           ...            ...           ...\n145            6.7           3.0            5.2           2.3\n146            6.3           2.5            5.0           1.9\n147            6.5           3.0            5.2           2.0\n148            6.2           3.4            5.4           2.3\n149            5.9           3.0            5.1           1.8\n\n[150 rows x 4 columns]",
      "text/html": "<div>\n<style scoped>\n    .dataframe tbody tr th:only-of-type {\n        vertical-align: middle;\n    }\n\n    .dataframe tbody tr th {\n        vertical-align: top;\n    }\n\n    .dataframe thead th {\n        text-align: right;\n    }\n</style>\n<table border=\"1\" class=\"dataframe\">\n  <thead>\n    <tr style=\"text-align: right;\">\n      <th></th>\n      <th>SepalLengthCm</th>\n      <th>SepalWidthCm</th>\n      <th>PetalLengthCm</th>\n      <th>PetalWidthCm</th>\n    </tr>\n  </thead>\n  <tbody>\n    <tr>\n      <th>0</th>\n      <td>5.1</td>\n      <td>3.5</td>\n      <td>1.4</td>\n      <td>0.2</td>\n    </tr>\n    <tr>\n      <th>1</th>\n      <td>4.9</td>\n      <td>3.0</td>\n      <td>1.4</td>\n      <td>0.2</td>\n    </tr>\n    <tr>\n      <th>2</th>\n      <td>4.7</td>\n      <td>3.2</td>\n      <td>1.3</td>\n      <td>0.2</td>\n    </tr>\n    <tr>\n      <th>3</th>\n      <td>4.6</td>\n      <td>3.1</td>\n      <td>1.5</td>\n      <td>0.2</td>\n    </tr>\n    <tr>\n      <th>4</th>\n      <td>5.0</td>\n      <td>3.6</td>\n      <td>1.4</td>\n      <td>0.2</td>\n    </tr>\n    <tr>\n      <th>...</th>\n      <td>...</td>\n      <td>...</td>\n      <td>...</td>\n      <td>...</td>\n    </tr>\n    <tr>\n      <th>145</th>\n      <td>6.7</td>\n      <td>3.0</td>\n      <td>5.2</td>\n      <td>2.3</td>\n    </tr>\n    <tr>\n      <th>146</th>\n      <td>6.3</td>\n      <td>2.5</td>\n      <td>5.0</td>\n      <td>1.9</td>\n    </tr>\n    <tr>\n      <th>147</th>\n      <td>6.5</td>\n      <td>3.0</td>\n      <td>5.2</td>\n      <td>2.0</td>\n    </tr>\n    <tr>\n      <th>148</th>\n      <td>6.2</td>\n      <td>3.4</td>\n      <td>5.4</td>\n      <td>2.3</td>\n    </tr>\n    <tr>\n      <th>149</th>\n      <td>5.9</td>\n      <td>3.0</td>\n      <td>5.1</td>\n      <td>1.8</td>\n    </tr>\n  </tbody>\n</table>\n<p>150 rows × 4 columns</p>\n</div>"
     },
     "execution_count": 65,
     "metadata": {},
     "output_type": "execute_result"
    }
   ],
   "source": [
    "#dataset\n",
    "dataset = pd.read_csv('datasets/irisDataset.csv')\n",
    "Validation = pd.DataFrame(dataset['Species'])\n",
    "dataset_to_cluster = dataset.drop(['Id','Species'], axis=1)\n",
    "dataset_to_cluster"
   ],
   "metadata": {
    "collapsed": false,
    "pycharm": {
     "name": "#%%\n"
    }
   }
  },
  {
   "cell_type": "markdown",
   "source": [
    "## Clustering with K-means"
   ],
   "metadata": {
    "collapsed": false,
    "pycharm": {
     "name": "#%% md\n"
    }
   }
  },
  {
   "cell_type": "code",
   "execution_count": 66,
   "outputs": [
    {
     "name": "stdout",
     "output_type": "stream",
     "text": [
      "0    62\n",
      "1    50\n",
      "2    38\n",
      "Name: cluster, dtype: int64\n"
     ]
    }
   ],
   "source": [
    "kmeans = KMeans(init='random', n_clusters=3, random_state=88)\n",
    "dataset_w_clusterAtt = dataset_to_cluster.copy()\n",
    "dataset_w_clusterAtt['cluster'] = kmeans.fit_predict(dataset_to_cluster)\n",
    "print(pd.value_counts(dataset_w_clusterAtt[\"cluster\"]))"
   ],
   "metadata": {
    "collapsed": false,
    "pycharm": {
     "name": "#%%\n"
    }
   }
  },
  {
   "cell_type": "code",
   "execution_count": 67,
   "outputs": [
    {
     "data": {
      "text/plain": "<matplotlib.collections.PathCollection at 0x18508bfd8e0>"
     },
     "execution_count": 67,
     "metadata": {},
     "output_type": "execute_result"
    },
    {
     "data": {
      "text/plain": "<Figure size 432x288 with 1 Axes>",
      "image/png": "[encoded data removed]"
     },
     "metadata": {
      "needs_background": "light"
     },
     "output_type": "display_data"
    }
   ],
   "source": [
    "#ploting clusters\n",
    "plt.scatter(dataset_w_clusterAtt['PetalLengthCm'],dataset_w_clusterAtt['cluster'], c=dataset_w_clusterAtt['cluster'], cmap='rainbow')"
   ],
   "metadata": {
    "collapsed": false,
    "pycharm": {
     "name": "#%%\n"
    }
   }
  },
  {
   "cell_type": "markdown",
   "source": [
    "## Discretizing with CAIM"
   ],
   "metadata": {
    "collapsed": false,
    "pycharm": {
     "name": "#%% md\n"
    }
   }
  },
  {
   "cell_type": "code",
   "execution_count": 68,
   "outputs": [
    {
     "name": "stdout",
     "output_type": "stream",
     "text": [
      "Categorical []\n",
      "# 0  GLOBAL CAIM  30.637118177869997\n",
      "# 1  GLOBAL CAIM  20.114814814814817\n",
      "# 2  GLOBAL CAIM  46.1764705882353\n",
      "# 3  GLOBAL CAIM  40.77950461389024\n"
     ]
    }
   ],
   "source": [
    "numAtt = dataset_to_cluster.copy()\n",
    "clusterAtt = dataset_w_clusterAtt['cluster']\n",
    "caim = CAIMD()\n",
    "dataset_disc = caim.fit_transform(numAtt, clusterAtt)"
   ],
   "metadata": {
    "collapsed": false,
    "pycharm": {
     "name": "#%%\n"
    }
   }
  },
  {
   "cell_type": "code",
   "execution_count": 69,
   "outputs": [
    {
     "data": {
      "text/plain": "{0: [4.3, 5.3, 6.2, 8.9],\n 1: [2.0, 2.6, 3.3, 5.4],\n 2: [1.0, 1.9, 5.2, 7.9],\n 3: [0.1, 0.6, 1.9, 3.5]}"
     },
     "execution_count": 69,
     "metadata": {},
     "output_type": "execute_result"
    }
   ],
   "source": [
    "#Finding cut points\n",
    "disc_scheme = pd.DataFrame()\n",
    "disc_scheme = caim.split_scheme\n",
    "disc_scheme"
   ],
   "metadata": {
    "collapsed": false,
    "pycharm": {
     "name": "#%%\n"
    }
   }
  },
  {
   "cell_type": "code",
   "execution_count": 70,
   "outputs": [
    {
     "data": {
      "text/plain": "    SepalLengthCm  SepalWidthCm  PetalLengthCm  PetalWidthCm\n0             0.0           2.0            0.0           0.0\n1             0.0           1.0            0.0           0.0\n2             0.0           1.0            0.0           0.0\n3             0.0           1.0            0.0           0.0\n4             0.0           2.0            0.0           0.0\n5             1.0           2.0            0.0           0.0\n6             0.0           2.0            0.0           0.0\n7             0.0           2.0            0.0           0.0\n8             0.0           1.0            0.0           0.0\n9             0.0           1.0            0.0           0.0\n10            1.0           2.0            0.0           0.0\n11            0.0           2.0            0.0           0.0\n12            0.0           1.0            0.0           0.0\n13            0.0           1.0            0.0           0.0\n14            1.0           2.0            0.0           0.0\n15            1.0           2.0            0.0           0.0\n16            1.0           2.0            0.0           0.0\n17            0.0           2.0            0.0           0.0\n18            1.0           2.0            0.0           0.0\n19            0.0           2.0            0.0           0.0\n20            1.0           2.0            0.0           0.0\n21            0.0           2.0            0.0           0.0\n22            0.0           2.0            0.0           0.0\n23            0.0           2.0            0.0           0.0\n24            0.0           2.0            1.0           0.0\n25            0.0           1.0            0.0           0.0\n26            0.0           2.0            0.0           0.0\n27            0.0           2.0            0.0           0.0\n28            0.0           2.0            0.0           0.0\n29            0.0           1.0            0.0           0.0\n30            0.0           1.0            0.0           0.0\n31            1.0           2.0            0.0           0.0\n32            0.0           2.0            0.0           0.0\n33            1.0           2.0            0.0           0.0\n34            0.0           1.0            0.0           0.0\n35            0.0           1.0            0.0           0.0\n36            1.0           2.0            0.0           0.0\n37            0.0           1.0            0.0           0.0\n38            0.0           1.0            0.0           0.0\n39            0.0           2.0            0.0           0.0\n40            0.0           2.0            0.0           0.0\n41            0.0           0.0            0.0           0.0\n42            0.0           1.0            0.0           0.0\n43            0.0           2.0            0.0           1.0\n44            0.0           2.0            1.0           0.0\n45            0.0           1.0            0.0           0.0\n46            0.0           2.0            0.0           0.0\n47            0.0           1.0            0.0           0.0\n48            1.0           2.0            0.0           0.0\n49            0.0           2.0            0.0           0.0",
      "text/html": "<div>\n<style scoped>\n    .dataframe tbody tr th:only-of-type {\n        vertical-align: middle;\n    }\n\n    .dataframe tbody tr th {\n        vertical-align: top;\n    }\n\n    .dataframe thead th {\n        text-align: right;\n    }\n</style>\n<table border=\"1\" class=\"dataframe\">\n  <thead>\n    <tr style=\"text-align: right;\">\n      <th></th>\n      <th>SepalLengthCm</th>\n      <th>SepalWidthCm</th>\n      <th>PetalLengthCm</th>\n      <th>PetalWidthCm</th>\n    </tr>\n  </thead>\n  <tbody>\n    <tr>\n      <th>0</th>\n      <td>0.0</td>\n      <td>2.0</td>\n      <td>0.0</td>\n      <td>0.0</td>\n    </tr>\n    <tr>\n      <th>1</th>\n      <td>0.0</td>\n      <td>1.0</td>\n      <td>0.0</td>\n      <td>0.0</td>\n    </tr>\n    <tr>\n      <th>2</th>\n      <td>0.0</td>\n      <td>1.0</td>\n      <td>0.0</td>\n      <td>0.0</td>\n    </tr>\n    <tr>\n      <th>3</th>\n      <td>0.0</td>\n      <td>1.0</td>\n      <td>0.0</td>\n      <td>0.0</td>\n    </tr>\n    <tr>\n      <th>4</th>\n      <td>0.0</td>\n      <td>2.0</td>\n      <td>0.0</td>\n      <td>0.0</td>\n    </tr>\n    <tr>\n      <th>5</th>\n      <td>1.0</td>\n      <td>2.0</td>\n      <td>0.0</td>\n      <td>0.0</td>\n    </tr>\n    <tr>\n      <th>6</th>\n      <td>0.0</td>\n      <td>2.0</td>\n      <td>0.0</td>\n      <td>0.0</td>\n    </tr>\n    <tr>\n      <th>7</th>\n      <td>0.0</td>\n      <td>2.0</td>\n      <td>0.0</td>\n      <td>0.0</td>\n    </tr>\n    <tr>\n      <th>8</th>\n      <td>0.0</td>\n      <td>1.0</td>\n      <td>0.0</td>\n      <td>0.0</td>\n    </tr>\n    <tr>\n      <th>9</th>\n      <td>0.0</td>\n      <td>1.0</td>\n      <td>0.0</td>\n      <td>0.0</td>\n    </tr>\n    <tr>\n      <th>10</th>\n      <td>1.0</td>\n      <td>2.0</td>\n      <td>0.0</td>\n      <td>0.0</td>\n    </tr>\n    <tr>\n      <th>11</th>\n      <td>0.0</td>\n      <td>2.0</td>\n      <td>0.0</td>\n      <td>0.0</td>\n    </tr>\n    <tr>\n      <th>12</th>\n      <td>0.0</td>\n      <td>1.0</td>\n      <td>0.0</td>\n      <td>0.0</td>\n    </tr>\n    <tr>\n      <th>13</th>\n      <td>0.0</td>\n      <td>1.0</td>\n      <td>0.0</td>\n      <td>0.0</td>\n    </tr>\n    <tr>\n      <th>14</th>\n      <td>1.0</td>\n      <td>2.0</td>\n      <td>0.0</td>\n      <td>0.0</td>\n    </tr>\n    <tr>\n      <th>15</th>\n      <td>1.0</td>\n      <td>2.0</td>\n      <td>0.0</td>\n      <td>0.0</td>\n    </tr>\n    <tr>\n      <th>16</th>\n      <td>1.0</td>\n      <td>2.0</td>\n      <td>0.0</td>\n      <td>0.0</td>\n    </tr>\n    <tr>\n      <th>17</th>\n      <td>0.0</td>\n      <td>2.0</td>\n      <td>0.0</td>\n      <td>0.0</td>\n    </tr>\n    <tr>\n      <th>18</th>\n      <td>1.0</td>\n      <td>2.0</td>\n      <td>0.0</td>\n      <td>0.0</td>\n    </tr>\n    <tr>\n      <th>19</th>\n      <td>0.0</td>\n      <td>2.0</td>\n      <td>0.0</td>\n      <td>0.0</td>\n    </tr>\n    <tr>\n      <th>20</th>\n      <td>1.0</td>\n      <td>2.0</td>\n      <td>0.0</td>\n      <td>0.0</td>\n    </tr>\n    <tr>\n      <th>21</th>\n      <td>0.0</td>\n      <td>2.0</td>\n      <td>0.0</td>\n      <td>0.0</td>\n    </tr>\n    <tr>\n      <th>22</th>\n      <td>0.0</td>\n      <td>2.0</td>\n      <td>0.0</td>\n      <td>0.0</td>\n    </tr>\n    <tr>\n      <th>23</th>\n      <td>0.0</td>\n      <td>2.0</td>\n      <td>0.0</td>\n      <td>0.0</td>\n    </tr>\n    <tr>\n      <th>24</th>\n      <td>0.0</td>\n      <td>2.0</td>\n      <td>1.0</td>\n      <td>0.0</td>\n    </tr>\n    <tr>\n      <th>25</th>\n      <td>0.0</td>\n      <td>1.0</td>\n      <td>0.0</td>\n      <td>0.0</td>\n    </tr>\n    <tr>\n      <th>26</th>\n      <td>0.0</td>\n      <td>2.0</td>\n      <td>0.0</td>\n      <td>0.0</td>\n    </tr>\n    <tr>\n      <th>27</th>\n      <td>0.0</td>\n      <td>2.0</td>\n      <td>0.0</td>\n      <td>0.0</td>\n    </tr>\n    <tr>\n      <th>28</th>\n      <td>0.0</td>\n      <td>2.0</td>\n      <td>0.0</td>\n      <td>0.0</td>\n    </tr>\n    <tr>\n      <th>29</th>\n      <td>0.0</td>\n      <td>1.0</td>\n      <td>0.0</td>\n      <td>0.0</td>\n    </tr>\n    <tr>\n      <th>30</th>\n      <td>0.0</td>\n      <td>1.0</td>\n      <td>0.0</td>\n      <td>0.0</td>\n    </tr>\n    <tr>\n      <th>31</th>\n      <td>1.0</td>\n      <td>2.0</td>\n      <td>0.0</td>\n      <td>0.0</td>\n    </tr>\n    <tr>\n      <th>32</th>\n      <td>0.0</td>\n      <td>2.0</td>\n      <td>0.0</td>\n      <td>0.0</td>\n    </tr>\n    <tr>\n      <th>33</th>\n      <td>1.0</td>\n      <td>2.0</td>\n      <td>0.0</td>\n      <td>0.0</td>\n    </tr>\n    <tr>\n      <th>34</th>\n      <td>0.0</td>\n      <td>1.0</td>\n      <td>0.0</td>\n      <td>0.0</td>\n    </tr>\n    <tr>\n      <th>35</th>\n      <td>0.0</td>\n      <td>1.0</td>\n      <td>0.0</td>\n      <td>0.0</td>\n    </tr>\n    <tr>\n      <th>36</th>\n      <td>1.0</td>\n      <td>2.0</td>\n      <td>0.0</td>\n      <td>0.0</td>\n    </tr>\n    <tr>\n      <th>37</th>\n      <td>0.0</td>\n      <td>1.0</td>\n      <td>0.0</td>\n      <td>0.0</td>\n    </tr>\n    <tr>\n      <th>38</th>\n      <td>0.0</td>\n      <td>1.0</td>\n      <td>0.0</td>\n      <td>0.0</td>\n    </tr>\n    <tr>\n      <th>39</th>\n      <td>0.0</td>\n      <td>2.0</td>\n      <td>0.0</td>\n      <td>0.0</td>\n    </tr>\n    <tr>\n      <th>40</th>\n      <td>0.0</td>\n      <td>2.0</td>\n      <td>0.0</td>\n      <td>0.0</td>\n    </tr>\n    <tr>\n      <th>41</th>\n      <td>0.0</td>\n      <td>0.0</td>\n      <td>0.0</td>\n      <td>0.0</td>\n    </tr>\n    <tr>\n      <th>42</th>\n      <td>0.0</td>\n      <td>1.0</td>\n      <td>0.0</td>\n      <td>0.0</td>\n    </tr>\n    <tr>\n      <th>43</th>\n      <td>0.0</td>\n      <td>2.0</td>\n      <td>0.0</td>\n      <td>1.0</td>\n    </tr>\n    <tr>\n      <th>44</th>\n      <td>0.0</td>\n      <td>2.0</td>\n      <td>1.0</td>\n      <td>0.0</td>\n    </tr>\n    <tr>\n      <th>45</th>\n      <td>0.0</td>\n      <td>1.0</td>\n      <td>0.0</td>\n      <td>0.0</td>\n    </tr>\n    <tr>\n      <th>46</th>\n      <td>0.0</td>\n      <td>2.0</td>\n      <td>0.0</td>\n      <td>0.0</td>\n    </tr>\n    <tr>\n      <th>47</th>\n      <td>0.0</td>\n      <td>1.0</td>\n      <td>0.0</td>\n      <td>0.0</td>\n    </tr>\n    <tr>\n      <th>48</th>\n      <td>1.0</td>\n      <td>2.0</td>\n      <td>0.0</td>\n      <td>0.0</td>\n    </tr>\n    <tr>\n      <th>49</th>\n      <td>0.0</td>\n      <td>2.0</td>\n      <td>0.0</td>\n      <td>0.0</td>\n    </tr>\n  </tbody>\n</table>\n</div>"
     },
     "execution_count": 70,
     "metadata": {},
     "output_type": "execute_result"
    }
   ],
   "source": [
    "cluster = pd.DataFrame()\n",
    "cluster = dataset_disc[dataset_w_clusterAtt['cluster'] == 1]\n",
    "cluster"
   ],
   "metadata": {
    "collapsed": false,
    "pycharm": {
     "name": "#%%\n"
    }
   }
  },
  {
   "cell_type": "code",
   "execution_count": 71,
   "outputs": [
    {
     "data": {
      "text/plain": "col_0                count\nFeature       range       \nSepalLengthCm 0.0     0.78\n              1.0     0.22\nSepalWidthCm  0.0     0.02\n              1.0     0.34\n              2.0     0.64\nPetalLengthCm 0.0     0.96\n              1.0     0.04\nPetalWidthCm  0.0     0.98\n              1.0     0.02",
      "text/html": "<div>\n<style scoped>\n    .dataframe tbody tr th:only-of-type {\n        vertical-align: middle;\n    }\n\n    .dataframe tbody tr th {\n        vertical-align: top;\n    }\n\n    .dataframe thead th {\n        text-align: right;\n    }\n</style>\n<table border=\"1\" class=\"dataframe\">\n  <thead>\n    <tr style=\"text-align: right;\">\n      <th></th>\n      <th>col_0</th>\n      <th>count</th>\n    </tr>\n    <tr>\n      <th>Feature</th>\n      <th>range</th>\n      <th></th>\n    </tr>\n  </thead>\n  <tbody>\n    <tr>\n      <th rowspan=\"2\" valign=\"top\">SepalLengthCm</th>\n      <th>0.0</th>\n      <td>0.78</td>\n    </tr>\n    <tr>\n      <th>1.0</th>\n      <td>0.22</td>\n    </tr>\n    <tr>\n      <th rowspan=\"3\" valign=\"top\">SepalWidthCm</th>\n      <th>0.0</th>\n      <td>0.02</td>\n    </tr>\n    <tr>\n      <th>1.0</th>\n      <td>0.34</td>\n    </tr>\n    <tr>\n      <th>2.0</th>\n      <td>0.64</td>\n    </tr>\n    <tr>\n      <th rowspan=\"2\" valign=\"top\">PetalLengthCm</th>\n      <th>0.0</th>\n      <td>0.96</td>\n    </tr>\n    <tr>\n      <th>1.0</th>\n      <td>0.04</td>\n    </tr>\n    <tr>\n      <th rowspan=\"2\" valign=\"top\">PetalWidthCm</th>\n      <th>0.0</th>\n      <td>0.98</td>\n    </tr>\n    <tr>\n      <th>1.0</th>\n      <td>0.02</td>\n    </tr>\n  </tbody>\n</table>\n</div>"
     },
     "execution_count": 71,
     "metadata": {},
     "output_type": "execute_result"
    }
   ],
   "source": [
    "#\n",
    "all_results = []\n",
    "result_table = pd.DataFrame();\n",
    "for (colName, colData) in cluster.items():\n",
    "    counter_table = pd.crosstab(index=cluster[colName], columns='count', rownames=['ranges'])\n",
    "    counter_table = counter_table/counter_table.sum()\n",
    "    all_results.append(counter_table)\n",
    "result_table = pd.concat(all_results, names=['Feature','range'], keys=cluster.columns)\n",
    "result_table"
   ],
   "metadata": {
    "collapsed": false,
    "pycharm": {
     "name": "#%%\n"
    }
   }
  },
  {
   "cell_type": "code",
   "execution_count": 72,
   "outputs": [
    {
     "name": "stdout",
     "output_type": "stream",
     "text": [
      "SepalLengthCm : [ 4.3 - 5.3 ] - [0.78]\n",
      "SepalLengthCm : [ 5.3 - 6.2 ] - [0.22]\n",
      "SepalWidthCm : [ 2.0 - 2.6 ] - [0.02]\n",
      "SepalWidthCm : [ 2.6 - 3.3 ] - [0.34]\n",
      "SepalWidthCm : [ 3.3 - 5.4 ] - [0.64]\n",
      "PetalLengthCm : [ 1.0 - 1.9 ] - [0.96]\n",
      "PetalLengthCm : [ 1.9 - 5.2 ] - [0.04]\n",
      "PetalWidthCm : [ 0.1 - 0.6 ] - [0.98]\n",
      "PetalWidthCm : [ 0.6 - 1.9 ] - [0.02]\n"
     ]
    }
   ],
   "source": [
    "feature_name = result_table.index[0][0]\n",
    "feature_index = 0\n",
    "for i_rt in range(result_table.index.size):\n",
    "    if feature_name != result_table.index[i_rt][0]:\n",
    "        feature_name = result_table.index[i_rt][0]\n",
    "        feature_index+=1\n",
    "    print(result_table.index[i_rt][0],': [',disc_scheme[feature_index][int(result_table.index[i_rt][1])],'-',disc_scheme[feature_index][int(result_table.index[i_rt][1])+1],'] -', result_table.values[i_rt])"
   ],
   "metadata": {
    "collapsed": false,
    "pycharm": {
     "name": "#%%\n"
    }
   }
  },
  {
   "cell_type": "code",
   "execution_count": 72,
   "outputs": [],
   "source": [],
   "metadata": {
    "collapsed": false,
    "pycharm": {
     "name": "#%%\n"
    }
   }
  }
 ],
 "metadata": {
  "kernelspec": {
   "display_name": "Python 3",
   "language": "python",
   "name": "python3"
  },
  "language_info": {
   "codemirror_mode": {
    "name": "ipython",
    "version": 2
   },
   "file_extension": ".py",
   "mimetype": "text/x-python",
   "name": "python",
   "nbconvert_exporter": "python",
   "pygments_lexer": "ipython2",
   "version": "2.7.6"
  }
 },
 "nbformat": 4,
 "nbformat_minor": 0
}